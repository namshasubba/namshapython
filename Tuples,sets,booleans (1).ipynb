{
 "cells": [
  {
   "cell_type": "code",
   "execution_count": 1,
   "id": "d732747b",
   "metadata": {},
   "outputs": [],
   "source": [
    "#tuples have ()"
   ]
  },
  {
   "cell_type": "code",
   "execution_count": 46,
   "id": "b170024d",
   "metadata": {},
   "outputs": [],
   "source": [
    "n_list= [1,23,45,67,34]"
   ]
  },
  {
   "cell_type": "code",
   "execution_count": 50,
   "id": "9890e742",
   "metadata": {},
   "outputs": [],
   "source": [
    "m_tup= (1,2,3,5)"
   ]
  },
  {
   "cell_type": "code",
   "execution_count": 51,
   "id": "102630e4",
   "metadata": {
    "scrolled": true
   },
   "outputs": [
    {
     "data": {
      "text/plain": [
       "list"
      ]
     },
     "execution_count": 51,
     "metadata": {},
     "output_type": "execute_result"
    }
   ],
   "source": [
    "type(n_list)"
   ]
  },
  {
   "cell_type": "code",
   "execution_count": 52,
   "id": "f0118fd3",
   "metadata": {},
   "outputs": [
    {
     "data": {
      "text/plain": [
       "tuple"
      ]
     },
     "execution_count": 52,
     "metadata": {},
     "output_type": "execute_result"
    }
   ],
   "source": [
    "type(m_tup)"
   ]
  },
  {
   "cell_type": "code",
   "execution_count": 54,
   "id": "6be8adf1",
   "metadata": {},
   "outputs": [
    {
     "data": {
      "text/plain": [
       "4"
      ]
     },
     "execution_count": 54,
     "metadata": {},
     "output_type": "execute_result"
    }
   ],
   "source": [
    "len(m_tup)"
   ]
  },
  {
   "cell_type": "code",
   "execution_count": 55,
   "id": "8c38c653",
   "metadata": {},
   "outputs": [
    {
     "data": {
      "text/plain": [
       "5"
      ]
     },
     "execution_count": 55,
     "metadata": {},
     "output_type": "execute_result"
    }
   ],
   "source": [
    "m_tup[-1]"
   ]
  },
  {
   "cell_type": "code",
   "execution_count": 64,
   "id": "d532378c",
   "metadata": {},
   "outputs": [],
   "source": [
    "t= ('a','a','b','c','c','d','e',)"
   ]
  },
  {
   "cell_type": "code",
   "execution_count": 65,
   "id": "f586e57e",
   "metadata": {},
   "outputs": [
    {
     "data": {
      "text/plain": [
       "2"
      ]
     },
     "execution_count": 65,
     "metadata": {},
     "output_type": "execute_result"
    }
   ],
   "source": [
    "t.count('a')"
   ]
  },
  {
   "cell_type": "code",
   "execution_count": 66,
   "id": "740c0cd6",
   "metadata": {},
   "outputs": [
    {
     "data": {
      "text/plain": [
       "3"
      ]
     },
     "execution_count": 66,
     "metadata": {},
     "output_type": "execute_result"
    }
   ],
   "source": [
    "t.index('c')"
   ]
  },
  {
   "cell_type": "code",
   "execution_count": 67,
   "id": "b374595b",
   "metadata": {},
   "outputs": [
    {
     "data": {
      "text/plain": [
       "[1, 23, 45, 67, 34]"
      ]
     },
     "execution_count": 67,
     "metadata": {},
     "output_type": "execute_result"
    }
   ],
   "source": [
    "n_list"
   ]
  },
  {
   "cell_type": "code",
   "execution_count": 68,
   "id": "430632ab",
   "metadata": {},
   "outputs": [],
   "source": [
    "n_list[1]=44"
   ]
  },
  {
   "cell_type": "code",
   "execution_count": 69,
   "id": "d7e4e2a6",
   "metadata": {},
   "outputs": [
    {
     "data": {
      "text/plain": [
       "[1, 44, 45, 67, 34]"
      ]
     },
     "execution_count": 69,
     "metadata": {},
     "output_type": "execute_result"
    }
   ],
   "source": [
    "n_list"
   ]
  },
  {
   "cell_type": "code",
   "execution_count": 71,
   "id": "932af9b5",
   "metadata": {},
   "outputs": [
    {
     "data": {
      "text/plain": [
       "(1, 2, 3, 5)"
      ]
     },
     "execution_count": 71,
     "metadata": {},
     "output_type": "execute_result"
    }
   ],
   "source": [
    "m_tup"
   ]
  },
  {
   "cell_type": "code",
   "execution_count": 72,
   "id": "8ea53d21",
   "metadata": {},
   "outputs": [],
   "source": [
    "#sets in python"
   ]
  },
  {
   "cell_type": "code",
   "execution_count": 73,
   "id": "e42ea5ea",
   "metadata": {},
   "outputs": [],
   "source": [
    "myset=set()"
   ]
  },
  {
   "cell_type": "code",
   "execution_count": 74,
   "id": "a3afec9a",
   "metadata": {},
   "outputs": [
    {
     "data": {
      "text/plain": [
       "set()"
      ]
     },
     "execution_count": 74,
     "metadata": {},
     "output_type": "execute_result"
    }
   ],
   "source": [
    "myset"
   ]
  },
  {
   "cell_type": "code",
   "execution_count": 76,
   "id": "9a0ddc3a",
   "metadata": {},
   "outputs": [],
   "source": [
    "myset.add(1)"
   ]
  },
  {
   "cell_type": "code",
   "execution_count": 77,
   "id": "48586ee9",
   "metadata": {},
   "outputs": [
    {
     "data": {
      "text/plain": [
       "{1}"
      ]
     },
     "execution_count": 77,
     "metadata": {},
     "output_type": "execute_result"
    }
   ],
   "source": [
    "myset"
   ]
  },
  {
   "cell_type": "code",
   "execution_count": 78,
   "id": "c222dd8a",
   "metadata": {},
   "outputs": [],
   "source": [
    "myset.add(2)"
   ]
  },
  {
   "cell_type": "code",
   "execution_count": 79,
   "id": "23dbc683",
   "metadata": {},
   "outputs": [
    {
     "data": {
      "text/plain": [
       "{1, 2}"
      ]
     },
     "execution_count": 79,
     "metadata": {},
     "output_type": "execute_result"
    }
   ],
   "source": [
    "myset"
   ]
  },
  {
   "cell_type": "code",
   "execution_count": 80,
   "id": "419048a3",
   "metadata": {},
   "outputs": [],
   "source": [
    "my=[1,2,3,3,5,6,7,1,1]"
   ]
  },
  {
   "cell_type": "code",
   "execution_count": 81,
   "id": "ba072ee0",
   "metadata": {},
   "outputs": [
    {
     "data": {
      "text/plain": [
       "(1, 2, 3, 5)"
      ]
     },
     "execution_count": 81,
     "metadata": {},
     "output_type": "execute_result"
    }
   ],
   "source": [
    "mylist"
   ]
  },
  {
   "cell_type": "code",
   "execution_count": 82,
   "id": "f15af3df",
   "metadata": {},
   "outputs": [
    {
     "data": {
      "text/plain": [
       "{1, 2, 3, 5}"
      ]
     },
     "execution_count": 82,
     "metadata": {},
     "output_type": "execute_result"
    }
   ],
   "source": [
    "set(mylist)"
   ]
  },
  {
   "cell_type": "code",
   "execution_count": 84,
   "id": "27f0cf8b",
   "metadata": {},
   "outputs": [],
   "source": [
    "#booleans in python"
   ]
  },
  {
   "cell_type": "code",
   "execution_count": 85,
   "id": "cba38db5",
   "metadata": {},
   "outputs": [
    {
     "data": {
      "text/plain": [
       "True"
      ]
     },
     "execution_count": 85,
     "metadata": {},
     "output_type": "execute_result"
    }
   ],
   "source": [
    "True"
   ]
  },
  {
   "cell_type": "code",
   "execution_count": 86,
   "id": "f50c88d0",
   "metadata": {},
   "outputs": [
    {
     "data": {
      "text/plain": [
       "False"
      ]
     },
     "execution_count": 86,
     "metadata": {},
     "output_type": "execute_result"
    }
   ],
   "source": [
    "False"
   ]
  },
  {
   "cell_type": "code",
   "execution_count": 87,
   "id": "f0191acd",
   "metadata": {},
   "outputs": [
    {
     "data": {
      "text/plain": [
       "False"
      ]
     },
     "execution_count": 87,
     "metadata": {},
     "output_type": "execute_result"
    }
   ],
   "source": [
    "1>2"
   ]
  },
  {
   "cell_type": "code",
   "execution_count": 88,
   "id": "537621bc",
   "metadata": {},
   "outputs": [
    {
     "data": {
      "text/plain": [
       "True"
      ]
     },
     "execution_count": 88,
     "metadata": {},
     "output_type": "execute_result"
    }
   ],
   "source": [
    "1<2"
   ]
  },
  {
   "cell_type": "code",
   "execution_count": 89,
   "id": "591513dd",
   "metadata": {},
   "outputs": [
    {
     "data": {
      "text/plain": [
       "True"
      ]
     },
     "execution_count": 89,
     "metadata": {},
     "output_type": "execute_result"
    }
   ],
   "source": [
    "1==1"
   ]
  },
  {
   "cell_type": "code",
   "execution_count": 90,
   "id": "b6da2029",
   "metadata": {},
   "outputs": [],
   "source": [
    "b=None"
   ]
  },
  {
   "cell_type": "code",
   "execution_count": 91,
   "id": "21348f5e",
   "metadata": {},
   "outputs": [
    {
     "data": {
      "text/plain": [
       "NoneType"
      ]
     },
     "execution_count": 91,
     "metadata": {},
     "output_type": "execute_result"
    }
   ],
   "source": [
    "type(b)"
   ]
  },
  {
   "cell_type": "code",
   "execution_count": null,
   "id": "c8a5382a",
   "metadata": {},
   "outputs": [],
   "source": []
  }
 ],
 "metadata": {
  "kernelspec": {
   "display_name": "Python 3 (ipykernel)",
   "language": "python",
   "name": "python3"
  },
  "language_info": {
   "codemirror_mode": {
    "name": "ipython",
    "version": 3
   },
   "file_extension": ".py",
   "mimetype": "text/x-python",
   "name": "python",
   "nbconvert_exporter": "python",
   "pygments_lexer": "ipython3",
   "version": "3.9.12"
  }
 },
 "nbformat": 4,
 "nbformat_minor": 5
}
