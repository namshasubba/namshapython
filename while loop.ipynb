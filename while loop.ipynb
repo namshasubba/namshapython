{
 "cells": [
  {
   "cell_type": "code",
   "execution_count": 1,
   "id": "3fbccf22",
   "metadata": {},
   "outputs": [],
   "source": [
    "#while loops in python"
   ]
  },
  {
   "cell_type": "code",
   "execution_count": 2,
   "id": "e02de280",
   "metadata": {},
   "outputs": [],
   "source": [
    "#while boolen_condition:\n",
    "    #do something\n",
    "#else:\n",
    "    #do something else"
   ]
  },
  {
   "cell_type": "code",
   "execution_count": 3,
   "id": "ea3e8a6a",
   "metadata": {},
   "outputs": [
    {
     "name": "stdout",
     "output_type": "stream",
     "text": [
      "the current value of x is 0\n",
      "the current value of x is 1\n",
      "the current value of x is 2\n",
      "the current value of x is 3\n",
      "the current value of x is 4\n",
      "x is not less than 5\n"
     ]
    }
   ],
   "source": [
    "x=0\n",
    "while x<5:\n",
    "    print(f'the current value of x is {x}')\n",
    "    #x=x+1\n",
    "    x+=1\n",
    "else:\n",
    "    print ('x is not less than 5')"
   ]
  },
  {
   "cell_type": "code",
   "execution_count": 4,
   "id": "0da07585",
   "metadata": {},
   "outputs": [],
   "source": [
    "#break, continue pass\n",
    "#break:break out of the closest enclosing loop\n",
    "#continue:goes to the top of theclosest enclosing loop\n",
    "#pass:does nothing at all"
   ]
  },
  {
   "cell_type": "code",
   "execution_count": 11,
   "id": "ca7dcabb",
   "metadata": {},
   "outputs": [
    {
     "name": "stdout",
     "output_type": "stream",
     "text": [
      "The end of my script\n"
     ]
    }
   ],
   "source": [
    "x=[1,2,3]\n",
    "for iteam in x:\n",
    "    #gdgdggd\n",
    "    pass\n",
    "print('The end of my script')"
   ]
  },
  {
   "cell_type": "code",
   "execution_count": 14,
   "id": "e6f106bc",
   "metadata": {},
   "outputs": [
    {
     "name": "stdout",
     "output_type": "stream",
     "text": [
      "D\n",
      "n\n",
      "n\n",
      "y\n"
     ]
    }
   ],
   "source": [
    "mystring='Danny'\n",
    "for letter in mystring:\n",
    "    if letter =='a':\n",
    "        continue\n",
    "    print(letter)"
   ]
  },
  {
   "cell_type": "code",
   "execution_count": 16,
   "id": "f401b5bd",
   "metadata": {},
   "outputs": [
    {
     "name": "stdout",
     "output_type": "stream",
     "text": [
      "N\n",
      "a\n"
     ]
    }
   ],
   "source": [
    "mystring ='Namsha'\n",
    "for letter in mystring:\n",
    "    if letter =='m':\n",
    "     break\n",
    "    print (letter)"
   ]
  },
  {
   "cell_type": "code",
   "execution_count": 18,
   "id": "6386fbb4",
   "metadata": {},
   "outputs": [
    {
     "name": "stdout",
     "output_type": "stream",
     "text": [
      "0\n",
      "1\n"
     ]
    }
   ],
   "source": [
    "x=0\n",
    "while x<5:\n",
    "    if x ==2:\n",
    "      break\n",
    "    print(x)\n",
    "    x +=1"
   ]
  },
  {
   "cell_type": "code",
   "execution_count": 19,
   "id": "51c454c8",
   "metadata": {},
   "outputs": [],
   "source": []
  },
  {
   "cell_type": "code",
   "execution_count": null,
   "id": "24e0fbb8",
   "metadata": {},
   "outputs": [],
   "source": []
  }
 ],
 "metadata": {
  "kernelspec": {
   "display_name": "Python 3 (ipykernel)",
   "language": "python",
   "name": "python3"
  },
  "language_info": {
   "codemirror_mode": {
    "name": "ipython",
    "version": 3
   },
   "file_extension": ".py",
   "mimetype": "text/x-python",
   "name": "python",
   "nbconvert_exporter": "python",
   "pygments_lexer": "ipython3",
   "version": "3.9.12"
  }
 },
 "nbformat": 4,
 "nbformat_minor": 5
}
