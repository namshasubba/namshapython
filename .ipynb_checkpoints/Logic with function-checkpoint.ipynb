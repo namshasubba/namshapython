{
 "cells": [
  {
   "cell_type": "code",
   "execution_count": 1,
   "id": "4ed00cd9",
   "metadata": {},
   "outputs": [
    {
     "data": {
      "text/plain": [
       "True"
      ]
     },
     "execution_count": 1,
     "metadata": {},
     "output_type": "execute_result"
    }
   ],
   "source": [
    "4%2 ==0"
   ]
  },
  {
   "cell_type": "code",
   "execution_count": 3,
   "id": "66a31805",
   "metadata": {},
   "outputs": [
    {
     "data": {
      "text/plain": [
       "1"
      ]
     },
     "execution_count": 3,
     "metadata": {},
     "output_type": "execute_result"
    }
   ],
   "source": [
    "5%2"
   ]
  },
  {
   "cell_type": "code",
   "execution_count": 7,
   "id": "ab0b61e9",
   "metadata": {},
   "outputs": [
    {
     "data": {
      "text/plain": [
       "False"
      ]
     },
     "execution_count": 7,
     "metadata": {},
     "output_type": "execute_result"
    }
   ],
   "source": [
    "5%2 ==0"
   ]
  },
  {
   "cell_type": "code",
   "execution_count": 14,
   "id": "eae8adb9",
   "metadata": {},
   "outputs": [
    {
     "data": {
      "text/plain": [
       "False"
      ]
     },
     "execution_count": 14,
     "metadata": {},
     "output_type": "execute_result"
    }
   ],
   "source": [
    "def even_check(num):\n",
    "    return num%2 ==0\n",
    "even_check(5)"
   ]
  },
  {
   "cell_type": "code",
   "execution_count": 22,
   "id": "3466f033",
   "metadata": {},
   "outputs": [
    {
     "data": {
      "text/plain": [
       "True"
      ]
     },
     "execution_count": 22,
     "metadata": {},
     "output_type": "execute_result"
    }
   ],
   "source": [
    "def check_even(num_list):\n",
    "    for number in num_list:\n",
    "        if number%2 ==0:\n",
    "            return True\n",
    "        else:\n",
    "            True\n",
    "check_even([1,2,4])"
   ]
  },
  {
   "cell_type": "code",
   "execution_count": 28,
   "id": "9777c4ca",
   "metadata": {},
   "outputs": [
    {
     "data": {
      "text/plain": [
       "True"
      ]
     },
     "execution_count": 28,
     "metadata": {},
     "output_type": "execute_result"
    }
   ],
   "source": [
    "def check_even(num_list):\n",
    "    for number in num_list:\n",
    "        if number%2 ==0:\n",
    "            return True\n",
    "        else:\n",
    "            pass\n",
    "    return False\n",
    "check_even([1,1,4])"
   ]
  },
  {
   "cell_type": "code",
   "execution_count": 71,
   "id": "7cf7eef6",
   "metadata": {},
   "outputs": [
    {
     "data": {
      "text/plain": [
       "[4, 6, 12, 14]"
      ]
     },
     "execution_count": 71,
     "metadata": {},
     "output_type": "execute_result"
    }
   ],
   "source": [
    "def check_even_list(num_list):\n",
    "    even_numbers = [] #placeholder values\n",
    "    for number in num_list:\n",
    "        if number%2==0:\n",
    "            even_numbers.append(number)\n",
    "        else:\n",
    "            pass\n",
    "    return even_numbers\n",
    "check_even_list([1,4,5,6,9,7,12,13,14])"
   ]
  },
  {
   "cell_type": "code",
   "execution_count": 35,
   "id": "5fd688ea",
   "metadata": {},
   "outputs": [],
   "source": [
    "#Function and Tuple Unpacking in python"
   ]
  },
  {
   "cell_type": "code",
   "execution_count": 38,
   "id": "6bb421d6",
   "metadata": {},
   "outputs": [
    {
     "name": "stdout",
     "output_type": "stream",
     "text": [
      "('APPLE', 100)\n",
      "('GOOGLE', 400)\n",
      "('MICROSOFT', 800)\n"
     ]
    }
   ],
   "source": [
    "stock_prices = [('APPLE',100),('GOOGLE',400),('MICROSOFT',800)]\n",
    "for item in stock_prices:\n",
    "    print(item)"
   ]
  },
  {
   "cell_type": "code",
   "execution_count": 42,
   "id": "e56738e5",
   "metadata": {},
   "outputs": [
    {
     "name": "stdout",
     "output_type": "stream",
     "text": [
      "110.0\n",
      "440.0\n",
      "880.0\n"
     ]
    }
   ],
   "source": [
    "for ticker,price in stock_prices:\n",
    "    print(price+(0.1*price))"
   ]
  },
  {
   "cell_type": "code",
   "execution_count": 63,
   "id": "7377813a",
   "metadata": {},
   "outputs": [],
   "source": [
    "work_hours = [('Abby',400),('Sammy',800),('Andy',300)]\n",
    "def employee_check(work_hours):\n",
    "    current_max = 0\n",
    "    employee_of_month = ''\n",
    "    for employee,hours in work_hours:\n",
    "        if hours>current_max:\n",
    "            current_max = hours\n",
    "            employee_of_month = employee\n",
    "        else:\n",
    "            pass\n",
    "    return(employee_of_month,current_max)\n"
   ]
  },
  {
   "cell_type": "code",
   "execution_count": 64,
   "id": "622d7b9a",
   "metadata": {},
   "outputs": [
    {
     "data": {
      "text/plain": [
       "('Sammy', 800)"
      ]
     },
     "execution_count": 64,
     "metadata": {},
     "output_type": "execute_result"
    }
   ],
   "source": [
    "employee_check(work_hours)"
   ]
  },
  {
   "cell_type": "code",
   "execution_count": 66,
   "id": "85c524b5",
   "metadata": {},
   "outputs": [],
   "source": [
    "result = employee_check(work_hours)"
   ]
  },
  {
   "cell_type": "code",
   "execution_count": 67,
   "id": "4e7c54a9",
   "metadata": {},
   "outputs": [
    {
     "data": {
      "text/plain": [
       "('Sammy', 800)"
      ]
     },
     "execution_count": 67,
     "metadata": {},
     "output_type": "execute_result"
    }
   ],
   "source": [
    "result"
   ]
  },
  {
   "cell_type": "code",
   "execution_count": 68,
   "id": "cbf1aa87",
   "metadata": {},
   "outputs": [],
   "source": [
    "name,hours = employee_check(work_hours)"
   ]
  },
  {
   "cell_type": "code",
   "execution_count": 69,
   "id": "4658ae9e",
   "metadata": {},
   "outputs": [
    {
     "data": {
      "text/plain": [
       "'Sammy'"
      ]
     },
     "execution_count": 69,
     "metadata": {},
     "output_type": "execute_result"
    }
   ],
   "source": [
    "name"
   ]
  },
  {
   "cell_type": "code",
   "execution_count": 70,
   "id": "9402eb3d",
   "metadata": {},
   "outputs": [
    {
     "data": {
      "text/plain": [
       "800"
      ]
     },
     "execution_count": 70,
     "metadata": {},
     "output_type": "execute_result"
    }
   ],
   "source": [
    "hours"
   ]
  },
  {
   "cell_type": "code",
   "execution_count": 72,
   "id": "0889856d",
   "metadata": {},
   "outputs": [
    {
     "ename": "ValueError",
     "evalue": "not enough values to unpack (expected 3, got 2)",
     "output_type": "error",
     "traceback": [
      "\u001b[1;31m---------------------------------------------------------------------------\u001b[0m",
      "\u001b[1;31mValueError\u001b[0m                                Traceback (most recent call last)",
      "Input \u001b[1;32mIn [72]\u001b[0m, in \u001b[0;36m<cell line: 1>\u001b[1;34m()\u001b[0m\n\u001b[1;32m----> 1\u001b[0m name,hours,locatiuon \u001b[38;5;241m=\u001b[39m employee_check(work_hours)\n",
      "\u001b[1;31mValueError\u001b[0m: not enough values to unpack (expected 3, got 2)"
     ]
    }
   ],
   "source": [
    "name,hours,locatiuon = employee_check(work_hours)"
   ]
  },
  {
   "cell_type": "code",
   "execution_count": 73,
   "id": "2ceac35e",
   "metadata": {},
   "outputs": [],
   "source": [
    "item= employee_check(work_hours)"
   ]
  },
  {
   "cell_type": "code",
   "execution_count": 74,
   "id": "12bc8243",
   "metadata": {},
   "outputs": [
    {
     "data": {
      "text/plain": [
       "('Sammy', 800)"
      ]
     },
     "execution_count": 74,
     "metadata": {},
     "output_type": "execute_result"
    }
   ],
   "source": [
    "item"
   ]
  },
  {
   "cell_type": "code",
   "execution_count": null,
   "id": "953e2e80",
   "metadata": {},
   "outputs": [],
   "source": []
  }
 ],
 "metadata": {
  "kernelspec": {
   "display_name": "Python 3 (ipykernel)",
   "language": "python",
   "name": "python3"
  },
  "language_info": {
   "codemirror_mode": {
    "name": "ipython",
    "version": 3
   },
   "file_extension": ".py",
   "mimetype": "text/x-python",
   "name": "python",
   "nbconvert_exporter": "python",
   "pygments_lexer": "ipython3",
   "version": "3.9.12"
  }
 },
 "nbformat": 4,
 "nbformat_minor": 5
}
